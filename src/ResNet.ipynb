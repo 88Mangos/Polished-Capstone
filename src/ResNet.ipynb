{
 "cells": [
  {
   "cell_type": "code",
   "execution_count": 3,
   "metadata": {},
   "outputs": [
    {
     "name": "stdout",
     "output_type": "stream",
     "text": [
      "/Users/tyleryang/Code/Polished-Capstone/tests\n",
      "/Users/tyleryang/Code/Polished-Capstone\n"
     ]
    }
   ],
   "source": [
    "import tensorflow as tf\n",
    "import keras\n",
    "from keras import Model, ModelCheckpoint\n",
    "from keras.layers import GlobalAveragePooling2D, Dense\n",
    "from keras.applications import ResNet50\n",
    "from keras.callbacks import ReduceLROnPlateau, EarlyStopping\n",
    "from keras.preprocessing.image import ImageDataGenerator\n",
    "\n",
    "import numpy as np\n",
    "import time\n",
    "import os\n",
    "\n",
    "CWD = os.getcwd()\n",
    "os.chdir(os.pardir)\n",
    "ROOT = os.getcwd()\n",
    "print(CWD)\n",
    "print(ROOT)\n",
    "\n",
    "start_time = time.localtime(time.time())"
   ]
  },
  {
   "cell_type": "code",
   "execution_count": null,
   "metadata": {},
   "outputs": [],
   "source": [
    "image_size = 224\n",
    "train_batch_size = 10\n",
    "val_batch_size = 10\n",
    "test_batch_size = 10"
   ]
  },
  {
   "cell_type": "code",
   "execution_count": null,
   "metadata": {},
   "outputs": [],
   "source": [
    "valid_path = f'{ROOT}/datasets/ISIC-20' # validation dir\n",
    "num_val_samples = 397  # ISIC-20 validation subset\n",
    "val_steps = np.ceil(num_val_samples / val_batch_size)\n",
    "\n",
    "valid_batches = ImageDataGenerator(\n",
    "    tf.keras.applications.resnet50.preprocess_input\n",
    ").flow_from_directory(\n",
    "    valid_path,\n",
    "    target_size=(image_size, image_size),\n",
    "    batch_size=val_batch_size,\n",
    "    class_mode=\"categorical\",\n",
    ")"
   ]
  },
  {
   "cell_type": "code",
   "execution_count": null,
   "metadata": {},
   "outputs": [],
   "source": [
    "test_path = f'{ROOT}/datasets/REZK' # test dir\n",
    "num_test_samples = 607  # Dermatlas test set\n",
    "test_steps = np.ceil(num_test_samples / test_batch_size)\n",
    "\n",
    "test_batches = ImageDataGenerator(\n",
    "    tf.keras.applications.resnet50.preprocess_input\n",
    ").flow_from_directory(\n",
    "    test_path,\n",
    "    target_size=(image_size, image_size),\n",
    "    batch_size=test_batch_size,\n",
    "    class_mode=\"categorical\",\n",
    "    shuffle=False,\n",
    ")"
   ]
  },
  {
   "cell_type": "code",
   "execution_count": 1,
   "metadata": {},
   "outputs": [],
   "source": [
    "train_num = input(\"Which training dataset to use? Enter '1', '2', or '3\")\n",
    "print(f'You have selected train dataset{train_num}')\n",
    "\n",
    "if train_num == 1:\n",
    "    train_path = f'{ROOT}/data/train/dataset1'\n",
    "    filepath = f'{CWD}/checkpoints/checkpoint_filepath_M1'\n",
    "    num_train_samples = 1583\n",
    "elif train_num == 2:\n",
    "    train_path = f'{ROOT}/datasets/DiDI'\n",
    "    filepath = f'{CWD}/checkpoints/checkpoint_filepath_M2'\n",
    "    num_train_samples = 656\n",
    "elif train_num == 3:\n",
    "    train_path = f'{ROOT}/datasets/ISIC-80'\n",
    "    filepath = '{CWD}/checkpoints/checkpoint_filepath_M3'\n",
    "    num_train_samples = 2111\n",
    "\n",
    "train_steps = np.ceil(num_train_samples / train_batch_size)\n",
    "\n",
    "train_batches = ImageDataGenerator(\n",
    "    preprocessing_function=tf.keras.applications.resnet50.preprocess_input\n",
    ").flow_from_directory(\n",
    "    train_path,\n",
    "    target_size=(image_size, image_size),\n",
    "    batch_size=train_batch_size,\n",
    "    class_mode=\"categorical\",\n",
    ")"
   ]
  },
  {
   "cell_type": "code",
   "execution_count": null,
   "metadata": {},
   "outputs": [],
   "source": [
    "base_model = ResNet50(weights=\"imagenet\", include_top=False)\n",
    "x = base_model.output\n",
    "x = GlobalAveragePooling2D()(x)\n",
    "predictions = Dense(2, activation=\"softmax\")(x)\n",
    "model = Model(inputs=base_model.input, outputs=predictions)\n",
    "\n",
    "# freezing all blocks except the last\n",
    "for layer in base_model.layers[0:143]:\n",
    "    layer.trainable = False\n",
    "\n",
    "for layer in base_model.layers[143:]:\n",
    "    layer.trainable = True\n",
    "\n",
    "model.compile(optimizer=\"adam\", loss=\"categorical_crossentropy\", metrics=[\"accuracy\"])\n",
    "\n",
    "checkpoint = ModelCheckpoint(\n",
    "    filepath, monitor=\"val_accuracy\", verbose=1, save_best_only=True, mode=\"max\"\n",
    ")\n",
    "\n",
    "# try early stopping to avoid overfitting\n",
    "\n",
    "earlystopping = EarlyStopping(\n",
    "    monitor=\"val_accuracy\", mode=\"max\", patience=5, restore_best_weights=True\n",
    ")\n",
    "\n",
    "reduce_lr = ReduceLROnPlateau(\n",
    "    monitor=\"val_accuracy\",\n",
    "    factor=0.5,\n",
    "    patience=5,\n",
    "    verbose=1,\n",
    "    mode=\"max\",\n",
    "    min_lr=0.00001,\n",
    ")\n",
    "\n",
    "callbacks_list = [checkpoint, reduce_lr]\n",
    "\n",
    "history = model.fit_generator(\n",
    "    train_batches,\n",
    "    steps_per_epoch=train_steps,\n",
    "    validation_data=valid_batches,\n",
    "    validation_steps=val_steps,\n",
    "    epochs=30,  # was 20 but initial 30\n",
    "    verbose=1,\n",
    "    callbacks=callbacks_list,\n",
    ")\n",
    "\n",
    "model.save(f'{ROOT}/models/ResNet_M{train_num}.keras')"
   ]
  },
  {
   "cell_type": "code",
   "execution_count": null,
   "metadata": {},
   "outputs": [],
   "source": [
    "### Model Training Metadata ###\n",
    "\n",
    "end_time = time.localtime(time.time())\n",
    "\n",
    "f = open(f\"{CWD}/models/MODEL_INFO.txt\", \"a\")\n",
    "f.write(f'train dataset{train_num}\\n')\n",
    "f.write(f\"Start Time: {start_time.tm_year}/{start_time.tm_mon}/{start_time.tm_mday}, {start_time.tm_hour}:{start_time.tm_min}:{start_time.tm_sec}\\n\")\n",
    "f.write(f\"End Time: {end_time.tm_year}/{end_time.tm_mon}/{end_time.tm_mday}, {end_time.tm_hour}:{end_time.tm_min}:{end_time.tm_sec}\\n\")\n",
    "f.write('\\n')\n",
    "f.write(f'Image size: {image_size}\\n')\n",
    "f.write(f'train_batch_size: {train_batch_size}\\n')\n",
    "f.write(f'val_batch_size: {val_batch_size}\\n')\n",
    "f.write(f'test_batch_size: {test_batch_size}\\n')\n",
    "f.write('\\n')\n",
    "\n",
    "\n",
    "f.close()"
   ]
  }
 ],
 "metadata": {
  "kernelspec": {
   "display_name": "tf-gpu",
   "language": "python",
   "name": "python3"
  },
  "language_info": {
   "codemirror_mode": {
    "name": "ipython",
    "version": 3
   },
   "file_extension": ".py",
   "mimetype": "text/x-python",
   "name": "python",
   "nbconvert_exporter": "python",
   "pygments_lexer": "ipython3",
   "version": "3.10.14"
  }
 },
 "nbformat": 4,
 "nbformat_minor": 2
}
