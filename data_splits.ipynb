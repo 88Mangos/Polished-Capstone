{
 "cells": [
  {
   "cell_type": "markdown",
   "metadata": {},
   "source": [
    "# Splits\n",
    "80/20 train/test\n",
    "\n",
    "90/10 train/validation\n",
    "\n",
    "whole"
   ]
  },
  {
   "cell_type": "code",
   "execution_count": 1,
   "metadata": {},
   "outputs": [],
   "source": [
    "import os\n",
    "CWD = os.getcwd()\n",
    "import numpy as np\n",
    "import pandas as pd \n",
    "import cv2\n",
    "import h5py\n",
    "import random"
   ]
  },
  {
   "cell_type": "code",
   "execution_count": 2,
   "metadata": {},
   "outputs": [],
   "source": [
    "# print(CWD)\n",
    "\n",
    "# Path for abbrev: ISIC\n",
    "ISIC = CWD + \"/datasets/ISIC\"\n",
    "# print(ISIC)\n",
    "\n",
    "# Path for abbrev: DiDI\n",
    "DiDI = CWD + \"/datasets/DiDI\"\n",
    "# print(DiDI)\n",
    "\n",
    "# Path for abbrev: AGI\n",
    "ArGI = CWD + \"/datasets/ArGI\"\n",
    "# print(ArGI)\n",
    "\n",
    "BrAD = CWD + \"/datasets/BrAD\"\n",
    "# print(BrAD)"
   ]
  },
  {
   "cell_type": "code",
   "execution_count": 3,
   "metadata": {},
   "outputs": [],
   "source": [
    "def split(images, labels, train_split, test_split, val_split):\n",
    "    n = len(images)\n",
    "    n_train = round(train_split*n)\n",
    "    n_test = round(test_split*n)\n",
    "    n_val = round(val_split*n)\n",
    "    \n",
    "    train_idx, test_idx, val_idx = 0,0,0\n",
    "\n",
    "    train = np.empty(shape=[n_train, 64, 64, 3], dtype=np.uint8)\n",
    "    test = np.empty(shape=[n_test, 64, 64, 3], dtype=np.uint8)\n",
    "    val = np.empty(shape=[n_val, 64, 64, 3], dtype=np.uint8)\n",
    "    \n",
    "    \n",
    "    train_labels = np.empty(shape=[n_train, 1])\n",
    "    test_labels = np.empty(shape=[n_test, 1])\n",
    "    val_labels = np.empty(shape=[n_val, 1])\n",
    "    \n",
    "    test_indices = random.sample(range(n), n_test)\n",
    "    val_indices = random.sample(range(n), n_val)\n",
    "\n",
    "    for i in range(n):\n",
    "        if i in test_indices:\n",
    "            test[test_idx] = images[i]\n",
    "            test_labels[test_idx] = labels[i]\n",
    "            test_idx += 1\n",
    "        elif i in val_indices:\n",
    "            val[val_idx] = images[i]\n",
    "            val_labels[val_idx] = labels[i]\n",
    "            val_idx += 1\n",
    "        else:\n",
    "            train[train_idx] = images[i]\n",
    "            train_labels[train_idx] = labels[i]\n",
    "            train_idx += 1\n",
    "    \n",
    "    assert len(train) == len(train_labels) == n_train\n",
    "    assert len(test) == len(test_labels) == n_test\n",
    "    assert len(val) == len(val_labels) == n_val\n",
    "\n",
    "    # print(type(train))\n",
    "    # print(type(test))\n",
    "    # print(type(train_labels))\n",
    "    # print(type(test_labels))\n",
    "    # print(type(val))\n",
    "    # print(type(val_labels))\n",
    "    \n",
    "    return train, train_labels, test, test_labels, val, val_labels"
   ]
  },
  {
   "cell_type": "code",
   "execution_count": 7,
   "metadata": {},
   "outputs": [],
   "source": [
    "def load(dataset, abbrev):\n",
    "    metadata = pd.read_excel(f'{dataset}/metadata_{abbrev}.xlsx', index_col = 'index')\n",
    "    num_imgs = len(metadata['id'])\n",
    "    labels = np.array(metadata['malignance'], dtype=np.uint8).reshape(num_imgs, 1)\n",
    "    images = np.empty(shape=[num_imgs, 64, 64, 3], dtype=np.uint8)\n",
    "    for i in range(num_imgs):\n",
    "        id = metadata['id'][i]\n",
    "        image = cv2.imread(f'{dataset}/all_images/{id}')\n",
    "        image = cv2.resize(image, (64, 64))\n",
    "        images[i] = image\n",
    "    \n",
    "    if not (len(images) == len(labels) == num_imgs):\n",
    "        return ValueError\n",
    "    \n",
    "    return images, labels"
   ]
  },
  {
   "cell_type": "code",
   "execution_count": 5,
   "metadata": {},
   "outputs": [],
   "source": [
    "def export(images, labels, filename, subfolder):\n",
    "    with h5py.File(f'{CWD}/datasets/{subfolder}/{filename}.h5','w') as f:\n",
    "        f.create_dataset('images', data = images)\n",
    "        f.create_dataset('labels', data = labels)"
   ]
  },
  {
   "cell_type": "code",
   "execution_count": 8,
   "metadata": {},
   "outputs": [],
   "source": [
    "images_ISIC, labels_ISIC = load(ISIC, \"ISIC\")\n",
    "images_DiDI, labels_DiDI = load(DiDI, \"DiDI\")\n",
    "images_ArGI, labels_ArGI = load(ArGI, \"ArGI\")\n",
    "images_BrAD, labels_BrAD = load(BrAD, \"BrAD\")"
   ]
  },
  {
   "cell_type": "code",
   "execution_count": 9,
   "metadata": {},
   "outputs": [],
   "source": [
    "export(images_ISIC, labels_ISIC, 'ISIC', 'ISIC')\n",
    "export(images_DiDI, labels_DiDI, 'DiDI', 'DiDI')\n",
    "export(images_ArGI, labels_ArGI, 'ArGI', 'ArGI')\n",
    "export(images_BrAD, labels_BrAD, 'BrAD', 'BrAD')"
   ]
  },
  {
   "cell_type": "markdown",
   "metadata": {},
   "source": [
    "## whole (1.00 - 0.00 - 0.00 split)"
   ]
  },
  {
   "cell_type": "code",
   "execution_count": null,
   "metadata": {},
   "outputs": [],
   "source": [
    "if (len(images_ISIC) == len(labels_ISIC)):\n",
    "    print(len(images_ISIC))\n",
    "    print(labels_ISIC.shape)\n",
    "\n",
    "images_ISIC_DiDI = np.append(images_ISIC, images_DiDI, axis = 0)\n",
    "labels_ISIC_DiDI = np.append(labels_ISIC, labels_DiDI)\n",
    "labels_ISIC_DiDI = np.reshape(labels_ISIC_DiDI, [len(labels_ISIC_DiDI), 1])\n",
    "if (len(images_ISIC_DiDI) == len(labels_ISIC_DiDI)):\n",
    "    print(len(images_ISIC_DiDI))\n",
    "    print(labels_ISIC_DiDI.shape)\n",
    "\n",
    "images_ISIC_ArGI = np.append(images_ISIC, images_ArGI, axis = 0)\n",
    "labels_ISIC_ArGI = np.append(labels_ISIC, labels_ArGI)\n",
    "labels_ISIC_ArGI = np.reshape(labels_ISIC_ArGI, [len(labels_ISIC_ArGI), 1])\n",
    "if (len(images_ISIC_ArGI) == len(labels_ISIC_ArGI)):\n",
    "    print(len(images_ISIC_ArGI))\n",
    "    print(labels_ISIC_ArGI.shape)"
   ]
  },
  {
   "cell_type": "code",
   "execution_count": null,
   "metadata": {},
   "outputs": [],
   "source": [
    "export(images_ISIC, labels_ISIC, 'ISIC', 'whole')\n",
    "export(images_ISIC_DiDI, labels_ISIC_DiDI, 'ISIC_DiDI', 'whole')\n",
    "export(images_ISIC_ArGI, labels_ISIC_ArGI, 'ISIC_ArGI', 'whole')"
   ]
  },
  {
   "cell_type": "markdown",
   "metadata": {},
   "source": [
    "## train/test (0.80 - 0.20 - 0.00 split)"
   ]
  },
  {
   "cell_type": "code",
   "execution_count": null,
   "metadata": {},
   "outputs": [],
   "source": [
    "train_ISIC, train_labels_ISIC, test_ISIC, test_labels_ISIC, _, _ = split(images_ISIC, labels_ISIC, 0.8, 0.2, 0)\n",
    "print(len(train_ISIC))\n",
    "print(len(train_labels_ISIC))\n",
    "print(len(test_ISIC))\n",
    "print(len(test_labels_ISIC))\n",
    "\n",
    "train_DiDI, train_labels_DiDI, test_DiDI, test_labels_DiDI, _, _ = split(images_DiDI, labels_DiDI, 0.8, 0.2, 0)\n",
    "print(len(train_DiDI))\n",
    "print(len(train_labels_DiDI))\n",
    "print(len(test_DiDI))\n",
    "print(len(test_labels_DiDI))\n",
    "\n",
    "train_ArGI, train_labels_ArGI, _, _, _, _ = split(images_ArGI, labels_ArGI, 0.8, 0.2, 0)\n",
    "print(len(train_ArGI))\n",
    "print(len(train_labels_ArGI))"
   ]
  },
  {
   "cell_type": "code",
   "execution_count": null,
   "metadata": {},
   "outputs": [],
   "source": [
    "train_ISIC_DiDI = np.append(train_ISIC, train_DiDI, axis=0)\n",
    "train_labels_ISIC_DiDI = np.append(train_labels_ISIC, train_labels_DiDI)\n",
    "train_labels_ISIC_DiDI = np.reshape(train_labels_ISIC_DiDI, [len(train_ISIC_DiDI), 1])\n",
    "if len(train_ISIC_DiDI) == len(train_labels_ISIC_DiDI):\n",
    "    print(len(train_ISIC_DiDI)) \n",
    "    print(train_labels_ISIC_DiDI.shape)\n",
    "\n",
    "test_ISIC_DiDI = np.append(test_ISIC, test_DiDI, axis=0)\n",
    "test_labels_ISIC_DiDI = np.append(test_labels_ISIC, test_labels_DiDI)\n",
    "test_labels_ISIC_DiDI = np.reshape(test_labels_ISIC_DiDI, [len(test_ISIC_DiDI), 1])\n",
    "if len(test_ISIC_DiDI) == len(test_labels_ISIC_DiDI):\n",
    "    print(len(test_ISIC_DiDI)) \n",
    "    print(test_labels_ISIC_DiDI.shape)\n",
    "\n",
    "train_ISIC_ArGI = np.append(train_ISIC, train_ArGI, axis=0)\n",
    "train_labels_ISIC_ArGI = np.append(train_labels_ISIC, train_labels_ArGI)\n",
    "train_labels_ISIC_ArGI = np.reshape(train_labels_ISIC_ArGI, [len(train_ISIC_ArGI), 1])\n",
    "if len(train_ISIC_ArGI) == len(train_labels_ISIC_ArGI):\n",
    "    print(len(train_ISIC_ArGI)) \n",
    "    print(train_labels_ISIC_ArGI.shape)"
   ]
  },
  {
   "cell_type": "code",
   "execution_count": null,
   "metadata": {},
   "outputs": [],
   "source": [
    "export(train_ISIC, train_labels_ISIC, 'train_ISIC', 'split-80train-20test')\n",
    "export(train_ISIC_DiDI, train_labels_ISIC_DiDI, 'train_ISIC_DiDI', 'split-80train-20test')\n",
    "export(train_ISIC_ArGI, train_labels_ISIC_ArGI, 'train_ISIC_ArGI', 'split-80train-20test')\n",
    "export(test_ISIC_DiDI, test_labels_ISIC_DiDI, 'test_ISIC_DiDI', 'split-80train-20test')"
   ]
  },
  {
   "cell_type": "markdown",
   "metadata": {},
   "source": [
    "## train/val (0.90 - 0.00 - 0.10 split)"
   ]
  },
  {
   "cell_type": "code",
   "execution_count": null,
   "metadata": {},
   "outputs": [],
   "source": [
    "train_ISIC, train_labels_ISIC, _, _, val_ISIC, val_labels_ISIC = split(images_ISIC, labels_ISIC, 0.9, 0, 0.1)\n",
    "print(len(train_ISIC))\n",
    "print(len(train_labels_ISIC))\n",
    "print(len(val_ISIC))\n",
    "print(len(val_labels_ISIC))\n",
    "\n",
    "train_DiDI, train_labels_DiDI, _, _, val_DiDI, val_labels_DiDI = split(images_DiDI, labels_DiDI, 0.9, 0, 0.1)\n",
    "print(len(train_DiDI))\n",
    "print(len(train_labels_DiDI))\n",
    "print(len(val_DiDI))\n",
    "print(len(val_labels_DiDI))\n",
    "\n",
    "train_ArGI, train_labels_ArGI, _, _, val_ArGI, val_labels_ArGI = split(images_ArGI, labels_ArGI, 0.9, 0, 0.1)\n",
    "print(len(train_ArGI))\n",
    "print(len(train_labels_ArGI))\n",
    "print(len(val_ArGI))\n",
    "print(len(val_labels_ArGI))"
   ]
  },
  {
   "cell_type": "code",
   "execution_count": null,
   "metadata": {},
   "outputs": [],
   "source": [
    "train_ISIC_DiDI = np.append(train_ISIC, train_DiDI, axis=0)\n",
    "train_labels_ISIC_DiDI = np.append(train_labels_ISIC, train_labels_DiDI)\n",
    "train_labels_ISIC_DiDI = np.reshape(train_labels_ISIC_DiDI, [len(train_ISIC_DiDI), 1])\n",
    "if len(train_ISIC_DiDI) == len(train_labels_ISIC_DiDI):\n",
    "    print(len(train_ISIC_DiDI)) \n",
    "    print(train_labels_ISIC_DiDI.shape)\n",
    "\n",
    "train_ISIC_ArGI = np.append(train_ISIC, train_ArGI, axis=0)\n",
    "train_labels_ISIC_ArGI = np.append(train_labels_ISIC, train_labels_ArGI)\n",
    "train_labels_ISIC_ArGI = np.reshape(train_labels_ISIC_ArGI, [len(train_ISIC_ArGI), 1])\n",
    "if len(train_ISIC_ArGI) == len(train_labels_ISIC_ArGI):\n",
    "    print(len(train_ISIC_ArGI)) \n",
    "    print(train_labels_ISIC_ArGI.shape)\n",
    "\n",
    "val_ISIC_DiDI = np.append(val_ISIC, val_DiDI, axis=0)\n",
    "val_labels_ISIC_DiDI = np.append(val_labels_ISIC, val_labels_DiDI)\n",
    "val_labels_ISIC_DiDI = np.reshape(val_labels_ISIC_DiDI, [len(val_ISIC_DiDI), 1])\n",
    "if len(val_ISIC_DiDI) == len(val_labels_ISIC_DiDI):\n",
    "    print(len(val_ISIC_DiDI)) \n",
    "    print(val_labels_ISIC_DiDI.shape)\n",
    "\n",
    "val_ISIC_ArGI = np.append(val_ISIC, val_ArGI, axis=0)\n",
    "val_labels_ISIC_ArGI = np.append(val_labels_ISIC, val_labels_ArGI)\n",
    "val_labels_ISIC_ArGI = np.reshape(val_labels_ISIC_ArGI, [len(val_ISIC_ArGI), 1])\n",
    "if len(val_ISIC_ArGI) == len(val_labels_ISIC_ArGI):\n",
    "    print(len(val_ISIC_ArGI)) \n",
    "    print(val_labels_ISIC_ArGI.shape)"
   ]
  },
  {
   "cell_type": "code",
   "execution_count": null,
   "metadata": {},
   "outputs": [],
   "source": [
    "export(train_ISIC, train_labels_ISIC, 'train_ISIC', 'split-90train-10val')\n",
    "export(train_ISIC_DiDI, train_labels_ISIC_DiDI, 'train_ISIC_DiDI', 'split-90train-10val')\n",
    "export(train_ISIC_ArGI, train_labels_ISIC_ArGI, 'train_ISIC_ArGI', 'split-90train-10val')"
   ]
  },
  {
   "cell_type": "code",
   "execution_count": null,
   "metadata": {},
   "outputs": [],
   "source": [
    "export(val_ISIC, val_labels_ISIC, 'val_ISIC', 'split-90train-10val')\n",
    "export(val_ISIC_DiDI, val_labels_ISIC_DiDI, 'val_ISIC_DiDI', 'split-90train-10val')\n",
    "export(val_ISIC_ArGI, val_labels_ISIC_ArGI, 'val_ISIC_ArGI', 'split-90train-10val')"
   ]
  }
 ],
 "metadata": {
  "kernelspec": {
   "display_name": "apresearch",
   "language": "python",
   "name": "python3"
  },
  "language_info": {
   "codemirror_mode": {
    "name": "ipython",
    "version": 3
   },
   "file_extension": ".py",
   "mimetype": "text/x-python",
   "name": "python",
   "nbconvert_exporter": "python",
   "pygments_lexer": "ipython3",
   "version": "3.10.14"
  }
 },
 "nbformat": 4,
 "nbformat_minor": 2
}
