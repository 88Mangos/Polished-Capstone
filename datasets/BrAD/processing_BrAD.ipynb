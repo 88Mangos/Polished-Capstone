{
 "cells": [
  {
   "cell_type": "code",
   "execution_count": 1,
   "metadata": {},
   "outputs": [],
   "source": [
    "import derm_ita as dita\n",
    "\n",
    "import os\n",
    "import io\n",
    "from io import BytesIO\n",
    "import numpy as np\n",
    "import pandas as pd\n",
    "\n",
    "from PIL import Image\n",
    "import cv2\n",
    "import h5py\n",
    "import tensorflow\n",
    "from tensorflow.keras.utils import load_img, img_to_array, save_img"
   ]
  },
  {
   "cell_type": "code",
   "execution_count": 2,
   "metadata": {},
   "outputs": [],
   "source": [
    "CWD = os.getcwd()"
   ]
  },
  {
   "cell_type": "code",
   "execution_count": 3,
   "metadata": {},
   "outputs": [],
   "source": [
    "def ITA_FST(image):\n",
    "    img_ita = dita.get_cropped_center_ita(image)\n",
    "    groh_FST = None\n",
    "    if 23 <= img_ita:\n",
    "        groh_FST = 12\n",
    "    elif 0 <= img_ita < 23:\n",
    "        groh_FST = 34\n",
    "    elif img_ita < 0:\n",
    "        groh_FST = 56\n",
    "    \n",
    "    return groh_FST"
   ]
  },
  {
   "cell_type": "code",
   "execution_count": 4,
   "metadata": {},
   "outputs": [],
   "source": [
    "benign_imgs = []\n",
    "malignant_imgs = []"
   ]
  },
  {
   "cell_type": "code",
   "execution_count": 5,
   "metadata": {},
   "outputs": [],
   "source": [
    "for img in os.listdir(f'{CWD}/benign'):\n",
    "    if img == '.DS_Store':\n",
    "        continue\n",
    "    else:\n",
    "        benign_imgs.append(img)\n",
    "\n",
    "for img in os.listdir(f'{CWD}/malignant'):\n",
    "    if img == '.DS_Store':\n",
    "        continue\n",
    "    else:\n",
    "        malignant_imgs.append(img)"
   ]
  },
  {
   "cell_type": "code",
   "execution_count": 6,
   "metadata": {},
   "outputs": [
    {
     "name": "stdout",
     "output_type": "stream",
     "text": [
      "1898\n"
     ]
    }
   ],
   "source": [
    "n_imgs = len(benign_imgs) + len(malignant_imgs)\n",
    "print(n_imgs)"
   ]
  },
  {
   "cell_type": "code",
   "execution_count": 7,
   "metadata": {},
   "outputs": [],
   "source": [
    "images = np.empty(shape=[n_imgs, 64, 64, 3])\n",
    "ids = []\n",
    "labels = []\n",
    "malignances = np.empty(shape=[n_imgs])\n",
    "skin_tones = np.empty(shape=[n_imgs])"
   ]
  },
  {
   "cell_type": "code",
   "execution_count": 8,
   "metadata": {},
   "outputs": [],
   "source": [
    "idx = 0\n",
    "for img in benign_imgs:\n",
    "    byteImgIO = io.BytesIO()\n",
    "    byteImg = Image.open(f'{CWD}/benign/{img}')\n",
    "    byteImg.save(byteImgIO, \"JPEG\")\n",
    "\n",
    "    image = load_img(f'{CWD}/benign/{img}', target_size=(64,64))\n",
    "    id = img\n",
    "    label = 'benign'\n",
    "    malignance = 0\n",
    "    skin_tone = ITA_FST(image)\n",
    "\n",
    "    image = img_to_array(image, dtype=np.uint8)\n",
    "    assert image.shape == (64, 64, 3)\n",
    "    assert image.dtype == np.uint8\n",
    "    images[idx] = image\n",
    "\n",
    "    images[idx] = image\n",
    "    ids.append(id)\n",
    "    labels.append(label)\n",
    "    malignances[idx] = malignance\n",
    "    skin_tones[idx] = skin_tone\n",
    "\n",
    "    save_img(f'{CWD}/all_images/{img}', image)\n",
    "    idx += 1"
   ]
  },
  {
   "cell_type": "code",
   "execution_count": 9,
   "metadata": {},
   "outputs": [
    {
     "name": "stderr",
     "output_type": "stream",
     "text": [
      "/Users/tyleryang/.pyenv/versions/3.10.14/envs/tf-gpu/lib/python3.10/site-packages/numpy/lib/nanfunctions.py:1879: RuntimeWarning: Degrees of freedom <= 0 for slice.\n",
      "  var = nanvar(a, axis=axis, dtype=dtype, out=out, ddof=ddof,\n",
      "/Users/tyleryang/.pyenv/versions/3.10.14/envs/tf-gpu/lib/python3.10/site-packages/derm_ita/ita_core_computations.py:75: RuntimeWarning: Mean of empty slice\n",
      "  mean = np.nanmean(l)\n",
      "/Users/tyleryang/.pyenv/versions/3.10.14/envs/tf-gpu/lib/python3.10/site-packages/derm_ita/ita_core_computations.py:86: RuntimeWarning: Mean of empty slice\n",
      "  ita = math.atan2(np.nanmean(l) - 50, np.nanmean(b)) * (180 / np.pi)\n"
     ]
    }
   ],
   "source": [
    "for img in malignant_imgs:\n",
    "    byteImgIO = io.BytesIO()\n",
    "    byteImg = Image.open(f'{CWD}/malignant/{img}')\n",
    "    byteImg.save(byteImgIO, \"JPEG\")\n",
    "\n",
    "    image = load_img(f'{CWD}/malignant/{img}', target_size=(64,64))\n",
    "    id = img\n",
    "    label = 'malignant'\n",
    "    malignance = 1\n",
    "    skin_tone = ITA_FST(image)\n",
    "\n",
    "    image = img_to_array(image, dtype=np.uint8)\n",
    "    assert image.shape == (64, 64, 3)\n",
    "    assert image.dtype == np.uint8\n",
    "    images[idx] = image\n",
    "\n",
    "    images[idx] = image\n",
    "    ids.append(id)\n",
    "    labels.append(label)\n",
    "    malignances[idx] = malignance\n",
    "    skin_tones[idx] = skin_tone\n",
    "\n",
    "    save_img(f'{CWD}/all_images/{img}', image)\n",
    "    idx += 1"
   ]
  },
  {
   "cell_type": "code",
   "execution_count": 10,
   "metadata": {},
   "outputs": [],
   "source": [
    "assert len(ids) == idx == n_imgs == len(labels) == len(malignances) == len(skin_tones)\n",
    "\n",
    "metadata = {\n",
    "    'id': ids,\n",
    "    'label': labels,\n",
    "    'malignance': malignances,\n",
    "    'skin_tone': skin_tones,\n",
    "}\n",
    "metadata = pd.DataFrame(metadata)\n",
    "metadata.to_excel(f'{CWD}/metadata_BrAD.xlsx')"
   ]
  }
 ],
 "metadata": {
  "kernelspec": {
   "display_name": "tf-gpu",
   "language": "python",
   "name": "python3"
  },
  "language_info": {
   "codemirror_mode": {
    "name": "ipython",
    "version": 3
   },
   "file_extension": ".py",
   "mimetype": "text/x-python",
   "name": "python",
   "nbconvert_exporter": "python",
   "pygments_lexer": "ipython3",
   "version": "3.10.14"
  }
 },
 "nbformat": 4,
 "nbformat_minor": 2
}
