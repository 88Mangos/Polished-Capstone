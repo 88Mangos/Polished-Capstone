{
 "cells": [
  {
   "cell_type": "markdown",
   "metadata": {},
   "source": [
    "What diseases should be in the test dataset?\n",
    "\n",
    "ISIC just had seborrheic keratosis and melanoma.\n",
    "\n",
    "DDI had much more, so let's read in the original metadata and look for the unique values."
   ]
  },
  {
   "cell_type": "code",
   "execution_count": 1,
   "metadata": {},
   "outputs": [],
   "source": [
    "import pandas as pd\n",
    "import os"
   ]
  },
  {
   "cell_type": "code",
   "execution_count": 2,
   "metadata": {},
   "outputs": [],
   "source": [
    "CWD = os.getcwd()"
   ]
  },
  {
   "cell_type": "code",
   "execution_count": 5,
   "metadata": {},
   "outputs": [
    {
     "name": "stdout",
     "output_type": "stream",
     "text": [
      "     Unnamed: 0  DDI_ID    DDI_file  skin_tone  malignant  \\\n",
      "0             0       1  000001.png         56       True   \n",
      "1             1       2  000002.png         56       True   \n",
      "2             2       3  000003.png         56       True   \n",
      "3             3       4  000004.png         56       True   \n",
      "4             4       5  000005.png         12       True   \n",
      "..          ...     ...         ...        ...        ...   \n",
      "651         651     652  000652.png         34      False   \n",
      "652         652     653  000653.png         34      False   \n",
      "653         653     654  000654.png         34      False   \n",
      "654         654     655  000655.png         34       True   \n",
      "655         655     656  000656.png         34       True   \n",
      "\n",
      "                             disease  \n",
      "0                   melanoma-in-situ  \n",
      "1                   melanoma-in-situ  \n",
      "2                  mycosis-fungoides  \n",
      "3    squamous-cell-carcinoma-in-situ  \n",
      "4               basal-cell-carcinoma  \n",
      "..                               ...  \n",
      "651               pyogenic-granuloma  \n",
      "652                 melanocytic-nevi  \n",
      "653           acral-melanotic-macule  \n",
      "654          squamous-cell-carcinoma  \n",
      "655             basal-cell-carcinoma  \n",
      "\n",
      "[656 rows x 6 columns]\n",
      "656\n"
     ]
    }
   ],
   "source": [
    "df = pd.read_csv(f'{CWD}/metadata_DDI.csv')\n",
    "print(df)\n",
    "n = len(df['DDI_ID'])\n",
    "print(n)"
   ]
  },
  {
   "cell_type": "code",
   "execution_count": 6,
   "metadata": {},
   "outputs": [],
   "source": [
    "badids = []\n",
    "curr_condition = \"\"\n",
    "for i in range(n):\n",
    "    curr_condition = df['disease'][i]\n",
    "    for j in range(i+1, n):\n",
    "        if df['disease'][j] == curr_condition:\n",
    "            badids.append(j)\n",
    "    "
   ]
  },
  {
   "cell_type": "code",
   "execution_count": 7,
   "metadata": {},
   "outputs": [
    {
     "name": "stdout",
     "output_type": "stream",
     "text": [
      "     Unnamed: 0  DDI_ID    DDI_file  skin_tone  malignant  \\\n",
      "0             0       1  000001.png         56       True   \n",
      "2             2       3  000003.png         56       True   \n",
      "3             3       4  000004.png         56       True   \n",
      "4             4       5  000005.png         12       True   \n",
      "5             5       6  000006.png         56       True   \n",
      "..          ...     ...         ...        ...        ...   \n",
      "560         560     561  000561.png         34      False   \n",
      "598         598     599  000599.png         34      False   \n",
      "603         603     604  000604.png         34      False   \n",
      "608         608     609  000609.png         34       True   \n",
      "653         653     654  000654.png         34      False   \n",
      "\n",
      "                                          disease  \n",
      "0                                melanoma-in-situ  \n",
      "2                               mycosis-fungoides  \n",
      "3                 squamous-cell-carcinoma-in-situ  \n",
      "4                            basal-cell-carcinoma  \n",
      "5                         squamous-cell-carcinoma  \n",
      "..                                            ...  \n",
      "560                                 solar-lentigo  \n",
      "598                          clear-cell-acanthoma  \n",
      "603                                       abscess  \n",
      "608  blastic-plasmacytoid-dendritic-cell-neoplasm  \n",
      "653                        acral-melanotic-macule  \n",
      "\n",
      "[78 rows x 6 columns]\n"
     ]
    }
   ],
   "source": [
    "df.drop(labels = badids, inplace=True)\n",
    "print(df)"
   ]
  },
  {
   "cell_type": "markdown",
   "metadata": {},
   "source": [
    "we now have 78 rows, indicating that there are 78 unique conditions in DDI. Let's drop all the useless columns and just map the disease to its malignance."
   ]
  },
  {
   "cell_type": "code",
   "execution_count": 9,
   "metadata": {},
   "outputs": [
    {
     "name": "stdout",
     "output_type": "stream",
     "text": [
      "     Unnamed: 0  malignant                                       disease\n",
      "0             0       True                              melanoma-in-situ\n",
      "2             2       True                             mycosis-fungoides\n",
      "3             3       True               squamous-cell-carcinoma-in-situ\n",
      "4             4       True                          basal-cell-carcinoma\n",
      "5             5       True                       squamous-cell-carcinoma\n",
      "..          ...        ...                                           ...\n",
      "560         560      False                                 solar-lentigo\n",
      "598         598      False                          clear-cell-acanthoma\n",
      "603         603      False                                       abscess\n",
      "608         608       True  blastic-plasmacytoid-dendritic-cell-neoplasm\n",
      "653         653      False                        acral-melanotic-macule\n",
      "\n",
      "[78 rows x 3 columns]\n"
     ]
    }
   ],
   "source": [
    "df.drop(['DDI_ID','DDI_file','skin_tone'], axis = 1, inplace=True)\n",
    "print(df)"
   ]
  },
  {
   "cell_type": "code",
   "execution_count": 10,
   "metadata": {},
   "outputs": [],
   "source": [
    "df.to_excel(f'{CWD}/unique_conditions.xlsx')"
   ]
  },
  {
   "cell_type": "code",
   "execution_count": null,
   "metadata": {},
   "outputs": [],
   "source": []
  }
 ],
 "metadata": {
  "kernelspec": {
   "display_name": "apresearch",
   "language": "python",
   "name": "python3"
  },
  "language_info": {
   "codemirror_mode": {
    "name": "ipython",
    "version": 3
   },
   "file_extension": ".py",
   "mimetype": "text/x-python",
   "name": "python",
   "nbconvert_exporter": "python",
   "pygments_lexer": "ipython3",
   "version": "3.9.16"
  }
 },
 "nbformat": 4,
 "nbformat_minor": 2
}
